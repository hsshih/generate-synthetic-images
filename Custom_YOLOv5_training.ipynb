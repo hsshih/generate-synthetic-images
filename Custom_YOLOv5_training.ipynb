{
  "nbformat": 4,
  "nbformat_minor": 0,
  "metadata": {
    "accelerator": "GPU",
    "colab": {
      "name": "Custom-YOLOv5-training.ipynb",
      "provenance": [],
      "collapsed_sections": []
    },
    "kernelspec": {
      "display_name": "Python 3",
      "name": "python3"
    }
  },
  "cells": [
    {
      "cell_type": "markdown",
      "metadata": {
        "id": "GD9gUQpaBxNa"
      },
      "source": [
        "This example training notebook is based on the [Roboflow-Custom-YOLOv5 notebook](https://colab.research.google.com/drive/1gDZ2xcTOgR39tGGs-EZ6i3RTs16wmzZQ) designed to run on Google Colab and the accompanying post [How to Train YOLOv5 On a Custom Dataset](https://blog.roboflow.com/how-to-train-yolov5-on-a-custom-dataset/)"
      ]
    },
    {
      "cell_type": "markdown",
      "metadata": {
        "id": "7mGmQbAO5pQb"
      },
      "source": [
        "#Install Dependencies\n",
        "\n",
        "_(Remember to choose GPU in Runtime if not already selected. Runtime --> Change Runtime Type --> Hardware accelerator --> GPU)_"
      ]
    },
    {
      "cell_type": "code",
      "metadata": {
        "id": "7M3S-BE0kkF0"
      },
      "source": [
        "# clone YOLOv5 repository\n",
        "!git clone https://github.com/ultralytics/yolov5  # clone repo\n",
        "%cd yolov5\n",
        "!git reset --hard 886f1c03d839575afecb059accf74296fad395b6"
      ],
      "execution_count": null,
      "outputs": []
    },
    {
      "cell_type": "code",
      "metadata": {
        "colab": {
          "base_uri": "https://localhost:8080/"
        },
        "id": "wbvMlHd_QwMG",
        "outputId": "93f53660-6557-4025-dbc5-e53f1977f03f"
      },
      "source": [
        "# install dependencies as necessary\n",
        "!pip install -qr requirements.txt  # install dependencies (ignore errors)\n",
        "import torch\n",
        "\n",
        "from IPython.display import Image, clear_output  # to display images\n",
        "from utils.google_utils import gdrive_download  # to download models/datasets\n",
        "\n",
        "# clear_output()\n",
        "print('Setup complete. Using torch %s %s' % (torch.__version__, torch.cuda.get_device_properties(0) if torch.cuda.is_available() else 'CPU'))"
      ],
      "execution_count": null,
      "outputs": [
        {
          "output_type": "stream",
          "text": [
            "\u001b[?25l\r\u001b[K     |▌                               | 10 kB 18.4 MB/s eta 0:00:01\r\u001b[K     |█                               | 20 kB 22.2 MB/s eta 0:00:01\r\u001b[K     |█▌                              | 30 kB 13.8 MB/s eta 0:00:01\r\u001b[K     |██                              | 40 kB 10.0 MB/s eta 0:00:01\r\u001b[K     |██▋                             | 51 kB 5.6 MB/s eta 0:00:01\r\u001b[K     |███                             | 61 kB 6.1 MB/s eta 0:00:01\r\u001b[K     |███▋                            | 71 kB 5.9 MB/s eta 0:00:01\r\u001b[K     |████▏                           | 81 kB 6.6 MB/s eta 0:00:01\r\u001b[K     |████▋                           | 92 kB 5.0 MB/s eta 0:00:01\r\u001b[K     |█████▏                          | 102 kB 5.4 MB/s eta 0:00:01\r\u001b[K     |█████▋                          | 112 kB 5.4 MB/s eta 0:00:01\r\u001b[K     |██████▏                         | 122 kB 5.4 MB/s eta 0:00:01\r\u001b[K     |██████▊                         | 133 kB 5.4 MB/s eta 0:00:01\r\u001b[K     |███████▏                        | 143 kB 5.4 MB/s eta 0:00:01\r\u001b[K     |███████▊                        | 153 kB 5.4 MB/s eta 0:00:01\r\u001b[K     |████████▎                       | 163 kB 5.4 MB/s eta 0:00:01\r\u001b[K     |████████▊                       | 174 kB 5.4 MB/s eta 0:00:01\r\u001b[K     |█████████▎                      | 184 kB 5.4 MB/s eta 0:00:01\r\u001b[K     |█████████▉                      | 194 kB 5.4 MB/s eta 0:00:01\r\u001b[K     |██████████▎                     | 204 kB 5.4 MB/s eta 0:00:01\r\u001b[K     |██████████▉                     | 215 kB 5.4 MB/s eta 0:00:01\r\u001b[K     |███████████▎                    | 225 kB 5.4 MB/s eta 0:00:01\r\u001b[K     |███████████▉                    | 235 kB 5.4 MB/s eta 0:00:01\r\u001b[K     |████████████▍                   | 245 kB 5.4 MB/s eta 0:00:01\r\u001b[K     |████████████▉                   | 256 kB 5.4 MB/s eta 0:00:01\r\u001b[K     |█████████████▍                  | 266 kB 5.4 MB/s eta 0:00:01\r\u001b[K     |██████████████                  | 276 kB 5.4 MB/s eta 0:00:01\r\u001b[K     |██████████████▍                 | 286 kB 5.4 MB/s eta 0:00:01\r\u001b[K     |███████████████                 | 296 kB 5.4 MB/s eta 0:00:01\r\u001b[K     |███████████████▍                | 307 kB 5.4 MB/s eta 0:00:01\r\u001b[K     |████████████████                | 317 kB 5.4 MB/s eta 0:00:01\r\u001b[K     |████████████████▌               | 327 kB 5.4 MB/s eta 0:00:01\r\u001b[K     |█████████████████               | 337 kB 5.4 MB/s eta 0:00:01\r\u001b[K     |█████████████████▌              | 348 kB 5.4 MB/s eta 0:00:01\r\u001b[K     |██████████████████              | 358 kB 5.4 MB/s eta 0:00:01\r\u001b[K     |██████████████████▌             | 368 kB 5.4 MB/s eta 0:00:01\r\u001b[K     |███████████████████             | 378 kB 5.4 MB/s eta 0:00:01\r\u001b[K     |███████████████████▋            | 389 kB 5.4 MB/s eta 0:00:01\r\u001b[K     |████████████████████            | 399 kB 5.4 MB/s eta 0:00:01\r\u001b[K     |████████████████████▋           | 409 kB 5.4 MB/s eta 0:00:01\r\u001b[K     |█████████████████████           | 419 kB 5.4 MB/s eta 0:00:01\r\u001b[K     |█████████████████████▋          | 430 kB 5.4 MB/s eta 0:00:01\r\u001b[K     |██████████████████████▏         | 440 kB 5.4 MB/s eta 0:00:01\r\u001b[K     |██████████████████████▋         | 450 kB 5.4 MB/s eta 0:00:01\r\u001b[K     |███████████████████████▏        | 460 kB 5.4 MB/s eta 0:00:01\r\u001b[K     |███████████████████████▊        | 471 kB 5.4 MB/s eta 0:00:01\r\u001b[K     |████████████████████████▏       | 481 kB 5.4 MB/s eta 0:00:01\r\u001b[K     |████████████████████████▊       | 491 kB 5.4 MB/s eta 0:00:01\r\u001b[K     |█████████████████████████▏      | 501 kB 5.4 MB/s eta 0:00:01\r\u001b[K     |█████████████████████████▊      | 512 kB 5.4 MB/s eta 0:00:01\r\u001b[K     |██████████████████████████▎     | 522 kB 5.4 MB/s eta 0:00:01\r\u001b[K     |██████████████████████████▊     | 532 kB 5.4 MB/s eta 0:00:01\r\u001b[K     |███████████████████████████▎    | 542 kB 5.4 MB/s eta 0:00:01\r\u001b[K     |███████████████████████████▉    | 552 kB 5.4 MB/s eta 0:00:01\r\u001b[K     |████████████████████████████▎   | 563 kB 5.4 MB/s eta 0:00:01\r\u001b[K     |████████████████████████████▉   | 573 kB 5.4 MB/s eta 0:00:01\r\u001b[K     |█████████████████████████████▍  | 583 kB 5.4 MB/s eta 0:00:01\r\u001b[K     |█████████████████████████████▉  | 593 kB 5.4 MB/s eta 0:00:01\r\u001b[K     |██████████████████████████████▍ | 604 kB 5.4 MB/s eta 0:00:01\r\u001b[K     |██████████████████████████████▉ | 614 kB 5.4 MB/s eta 0:00:01\r\u001b[K     |███████████████████████████████▍| 624 kB 5.4 MB/s eta 0:00:01\r\u001b[K     |████████████████████████████████| 634 kB 5.4 MB/s eta 0:00:01\r\u001b[K     |████████████████████████████████| 636 kB 5.4 MB/s \n",
            "\u001b[?25hSetup complete. Using torch 1.9.0+cu102 _CudaDeviceProperties(name='Tesla K80', major=3, minor=7, total_memory=11441MB, multi_processor_count=13)\n"
          ],
          "name": "stdout"
        }
      ]
    },
    {
      "cell_type": "markdown",
      "metadata": {
        "id": "UwJx-2NHsYxT"
      },
      "source": [
        "# Define Model Configuration and Architecture\n",
        "\n",
        "Place a data.yaml file in the working directory. This file specifies the training and validation directories, the number of categories, and the category names. The following script uses the data.yaml file to create a custom yolov5 yaml file that defines the parameters for our model like the number of classes, anchors, and each layer."
      ]
    },
    {
      "cell_type": "code",
      "metadata": {
        "colab": {
          "base_uri": "https://localhost:8080/"
        },
        "id": "ZZ3DmmGQztJj",
        "outputId": "b10b787b-90ca-4642-b35e-0d76929baca1"
      },
      "source": [
        "# this is what the data.yaml fiel should look like\n",
        "%cd ../\n",
        "%cat data.yaml"
      ],
      "execution_count": null,
      "outputs": [
        {
          "output_type": "stream",
          "text": [
            "/content/drive/My Drive/S2DS_EPRI_CV/yolo_v5\n",
            "train: ../train/images\n",
            "val: ../valid/images\n",
            "\n",
            "nc: 2\n",
            "names: ['0', '1']"
          ],
          "name": "stdout"
        }
      ]
    },
    {
      "cell_type": "code",
      "metadata": {
        "id": "dOPn9wjOAwwK"
      },
      "source": [
        "# define number of classes based on YAML\n",
        "import yaml\n",
        "with open(\"data.yaml\", 'r') as stream:\n",
        "    num_classes = str(yaml.safe_load(stream)['nc'])"
      ],
      "execution_count": null,
      "outputs": []
    },
    {
      "cell_type": "code",
      "metadata": {
        "id": "1Rvt5wilnDyX"
      },
      "source": [
        "#print out the model configuration we will use for our tutorial \n",
        "%cat yolov5/models/yolov5s.yaml"
      ],
      "execution_count": null,
      "outputs": []
    },
    {
      "cell_type": "code",
      "metadata": {
        "id": "t14hhyqdmw6O"
      },
      "source": [
        "#customize iPython writefile so we can write variables\n",
        "from IPython.core.magic import register_line_cell_magic\n",
        "\n",
        "@register_line_cell_magic\n",
        "def writetemplate(line, cell):\n",
        "    with open(line, 'w') as f:\n",
        "        f.write(cell.format(**globals()))"
      ],
      "execution_count": null,
      "outputs": []
    },
    {
      "cell_type": "code",
      "metadata": {
        "id": "uDxebz13RdRA"
      },
      "source": [
        "%%writetemplate /content/drive/MyDrive/S2DS_EPRI_CV/yolo_v5/yolov5/models/custom_yolov5s.yaml\n",
        "\n",
        "# parameters\n",
        "nc: {num_classes}  # number of classes\n",
        "depth_multiple: 0.33  # model depth multiple\n",
        "width_multiple: 0.50  # layer channel multiple\n",
        "\n",
        "# anchors\n",
        "anchors:\n",
        "  - [10,13, 16,30, 33,23]  # P3/8\n",
        "  - [30,61, 62,45, 59,119]  # P4/16\n",
        "  - [116,90, 156,198, 373,326]  # P5/32\n",
        "\n",
        "# YOLOv5 backbone\n",
        "backbone:\n",
        "  # [from, number, module, args]\n",
        "  [[-1, 1, Focus, [64, 3]],  # 0-P1/2\n",
        "   [-1, 1, Conv, [128, 3, 2]],  # 1-P2/4\n",
        "   [-1, 3, BottleneckCSP, [128]],\n",
        "   [-1, 1, Conv, [256, 3, 2]],  # 3-P3/8\n",
        "   [-1, 9, BottleneckCSP, [256]],\n",
        "   [-1, 1, Conv, [512, 3, 2]],  # 5-P4/16\n",
        "   [-1, 9, BottleneckCSP, [512]],\n",
        "   [-1, 1, Conv, [1024, 3, 2]],  # 7-P5/32\n",
        "   [-1, 1, SPP, [1024, [5, 9, 13]]],\n",
        "   [-1, 3, BottleneckCSP, [1024, False]],  # 9\n",
        "  ]\n",
        "\n",
        "# YOLOv5 head\n",
        "head:\n",
        "  [[-1, 1, Conv, [512, 1, 1]],\n",
        "   [-1, 1, nn.Upsample, [None, 2, 'nearest']],\n",
        "   [[-1, 6], 1, Concat, [1]],  # cat backbone P4\n",
        "   [-1, 3, BottleneckCSP, [512, False]],  # 13\n",
        "\n",
        "   [-1, 1, Conv, [256, 1, 1]],\n",
        "   [-1, 1, nn.Upsample, [None, 2, 'nearest']],\n",
        "   [[-1, 4], 1, Concat, [1]],  # cat backbone P3\n",
        "   [-1, 3, BottleneckCSP, [256, False]],  # 17 (P3/8-small)\n",
        "\n",
        "   [-1, 1, Conv, [256, 3, 2]],\n",
        "   [[-1, 14], 1, Concat, [1]],  # cat head P4\n",
        "   [-1, 3, BottleneckCSP, [512, False]],  # 20 (P4/16-medium)\n",
        "\n",
        "   [-1, 1, Conv, [512, 3, 2]],\n",
        "   [[-1, 10], 1, Concat, [1]],  # cat head P5\n",
        "   [-1, 3, BottleneckCSP, [1024, False]],  # 23 (P5/32-large)\n",
        "\n",
        "   [[17, 20, 23], 1, Detect, [nc, anchors]],  # Detect(P3, P4, P5)\n",
        "  ]"
      ],
      "execution_count": null,
      "outputs": []
    },
    {
      "cell_type": "markdown",
      "metadata": {
        "id": "VUOiNLtMP5aG"
      },
      "source": [
        "# Train Custom YOLOv5 Detector\n",
        "\n",
        "### Next, we'll fire off training!\n",
        "\n",
        "\n",
        "Here, we are able to pass a number of arguments:\n",
        "- **img:** define input image size\n",
        "- **batch:** determine batch size\n",
        "- **epochs:** define the number of training epochs. (Note: often, 3000+ are common here!)\n",
        "- **data:** set the path to our yaml file\n",
        "- **cfg:** specify our model configuration\n",
        "- **weights:** specify a custom path to weights. (Note: you can download weights from the Ultralytics Google Drive [folder](https://drive.google.com/open?id=1Drs_Aiu7xx6S-ix95f9kNsA6ueKRpN2J))\n",
        "- **name:** result names\n",
        "- **nosave:** only save the final checkpoint\n",
        "- **cache:** cache images for faster training"
      ]
    },
    {
      "cell_type": "code",
      "metadata": {
        "id": "1NcFxRcFdJ_O"
      },
      "source": [
        "# train yolov5s on custom data for 100 epochs\n",
        "# time its performance\n",
        "%%time\n",
        "%cd yolov5/\n",
        "!python train.py --img 640 --batch 16 --epochs 100 --data '../data.yaml' --cfg ./models/custom_yolov5s.yaml --weights '' --name yolov5s_results  --cache"
      ],
      "execution_count": null,
      "outputs": []
    },
    {
      "cell_type": "markdown",
      "metadata": {
        "id": "kJVs_4zEeVbF"
      },
      "source": [
        "# Evaluate Custom YOLOv5 Detector Performance"
      ]
    },
    {
      "cell_type": "code",
      "metadata": {
        "id": "C60XAsyv6OPe"
      },
      "source": [
        "from utils.plots import plot_results  # plot results.txt as results.png\n",
        "Image(filename='/content/drive/MyDrive/S2DS_EPRI_CV/yolo_v5/yolov5/runs/train/yolov5s_results/results.png', width=1000)  # view results.png"
      ],
      "execution_count": null,
      "outputs": []
    },
    {
      "cell_type": "markdown",
      "metadata": {
        "id": "DLI1JmHU7B0l"
      },
      "source": [
        "### Curious? Visualize Our Training Data with Labels\n",
        "\n",
        "After training starts, view `train*.jpg` images to see training images, labels and augmentation effects.\n",
        "\n",
        "Note a mosaic dataloader is used for training (shown below), a new dataloading concept developed by Glenn Jocher and first featured in [YOLOv4](https://arxiv.org/abs/2004.10934)."
      ]
    },
    {
      "cell_type": "code",
      "metadata": {
        "id": "PF9MLHDb7tB6"
      },
      "source": [
        "# first, display our ground truth data\n",
        "print(\"GROUND TRUTH TRAINING DATA:\")\n",
        "Image(filename='/content/drive/MyDrive/S2DS_EPRI_CV/yolo_v5/yolov5/runs/train/yolov5s_results/test_batch0_labels.jpg', width=900)"
      ],
      "execution_count": null,
      "outputs": []
    },
    {
      "cell_type": "code",
      "metadata": {
        "id": "W40tI99_7BcH"
      },
      "source": [
        "# print out an augmented training example\n",
        "print(\"GROUND TRUTH AUGMENTED TRAINING DATA:\")\n",
        "Image(filename='/content/drive/MyDrive/S2DS_EPRI_CV/yolo_v5/yolov5/runs/train/yolov5s_results/train_batch0.jpg', width=900)"
      ],
      "execution_count": null,
      "outputs": []
    },
    {
      "cell_type": "markdown",
      "metadata": {
        "id": "N3qM6T0W53gh"
      },
      "source": [
        "#Run Inference  With Trained Weights\n",
        "Run inference with a pretrained checkpoint on contents of `test/images` folder downloaded from Roboflow."
      ]
    },
    {
      "cell_type": "code",
      "metadata": {
        "colab": {
          "base_uri": "https://localhost:8080/"
        },
        "id": "yIEwt5YLeQ7P",
        "outputId": "e003823b-1557-4c41-c28d-3f2c8b0a3f86"
      },
      "source": [
        "# trained weights are saved by default in our weights folder\n",
        "%ls runs/"
      ],
      "execution_count": null,
      "outputs": [
        {
          "output_type": "stream",
          "text": [
            "\u001b[0m\u001b[01;34mdetect\u001b[0m/  \u001b[01;34mtrain\u001b[0m/\n"
          ],
          "name": "stdout"
        }
      ]
    },
    {
      "cell_type": "code",
      "metadata": {
        "colab": {
          "base_uri": "https://localhost:8080/"
        },
        "id": "4SyOWS80qR32",
        "outputId": "3e3923f7-b1d6-466a-8798-3ef0e30caebc"
      },
      "source": [
        "%ls runs/train/yolov5s_results15/weights"
      ],
      "execution_count": null,
      "outputs": [
        {
          "output_type": "stream",
          "text": [
            "best.pt  last.pt\n"
          ],
          "name": "stdout"
        }
      ]
    },
    {
      "cell_type": "code",
      "metadata": {
        "id": "kM1JsV4n3OpL"
      },
      "source": [
        "!python detect.py --weights runs/train/yolov5s_results4/weights/best.pt --img 640 --conf 0.4 --save-txt --save-conf --source ../test_image_dir"
      ],
      "execution_count": null,
      "outputs": []
    },
    {
      "cell_type": "code",
      "metadata": {
        "id": "odKEqYtTgbRc"
      },
      "source": [
        "#display inference on ALL test images\n",
        "\n",
        "import glob\n",
        "from IPython.display import Image, display\n",
        "\n",
        "for imageName in glob.glob('/content/drive/MyDrive/S2DS_EPRI_CV/yolo_v5/yolov5/runs/detect/exp/*.jpg'): #assuming JPG\n",
        "    display(Image(filename=imageName))\n",
        "    print(\"\\n\")"
      ],
      "execution_count": null,
      "outputs": []
    },
    {
      "cell_type": "markdown",
      "metadata": {
        "id": "_uPq9mVgiBql"
      },
      "source": [
        "# Export Trained Weights for Future Inference\n",
        "\n",
        "Now that you have trained your custom detector, you can export the trained weights you have made here for inference on your device elsewhere"
      ]
    },
    {
      "cell_type": "code",
      "metadata": {
        "colab": {
          "base_uri": "https://localhost:8080/"
        },
        "id": "YH4CTzDRh00g",
        "outputId": "dcac05aa-7bb2-40bb-d1ba-cf8b2d30a4f2"
      },
      "source": [
        "# from google.colab import drive\n",
        "# drive.mount('/content/gdrive')"
      ],
      "execution_count": null,
      "outputs": [
        {
          "output_type": "stream",
          "text": [
            "Mounted at /content/gdrive\n"
          ],
          "name": "stdout"
        }
      ]
    },
    {
      "cell_type": "code",
      "metadata": {
        "id": "1x_wg3VeiXMW"
      },
      "source": [
        "# %cp /content/yolov5/runs/train/yolov5s_results/weights/best.pt /content/gdrive/My\\ Drive"
      ],
      "execution_count": null,
      "outputs": []
    }
  ]
}